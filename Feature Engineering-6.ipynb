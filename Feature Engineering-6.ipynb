{
 "cells": [
  {
   "cell_type": "markdown",
   "id": "7407d7b0",
   "metadata": {},
   "source": [
    "# Q1. Pearson correlation coefficient is a measure of the linear relationship between two variables. Suppose you have collected data on the amount of time students spend studying for an exam and their final exam scores. How to Calculate the Pearson correlation coefficient between these two variables and interpret the result.\n",
    "Ans:To calculate the Pearson correlation coefficient between the amount of time students spend studying for an exam and their final exam scores, you would need to follow these steps:\n",
    "\n",
    "Calculate the mean of both variables.\n",
    "Calculate the standard deviation of both variables.\n",
    "For each student, calculate the deviation of their study time and exam score from the mean.\n",
    "Multiply the deviations for each student and sum them.\n",
    "Divide the sum by the product of the standard deviations.\n",
    "The resulting value will be the Pearson correlation coefficient, which can range from -1 to 1.\n",
    "\n",
    "Interpretation:\n",
    "\n",
    "A positive correlation coefficient indicates that there is a positive linear relationship between the two variables. This means that as the amount of time spent studying increases, so does the final exam score.\n",
    "\n",
    "A negative correlation coefficient indicates that there is a negative linear relationship between the two variables. This means that as the amount of time spent studying decreases, the final exam score increases.\n",
    "\n",
    "A correlation coefficient of 0 indicates that there is no linear relationship between the two variables.\n",
    "\n",
    "The closer the correlation coefficient is to -1 or 1, the stronger the linear relationship is between the two variables. A value of 0.5 or greater is generally considered a moderate to strong correlation. A value of less than 0.5 is considered a weak correlation.\n",
    "\n",
    "It's important to note that correlation does not imply causation. Just because two variables are correlated, it does not mean that one causes the other. Other factors may be involved that affect both variables."
   ]
  },
  {
   "cell_type": "code",
   "execution_count": 1,
   "id": "da4db74c",
   "metadata": {},
   "outputs": [
    {
     "name": "stdout",
     "output_type": "stream",
     "text": [
      "Spearman's rank correlation coefficient: 1.000\n",
      "p-value: 0.000\n"
     ]
    }
   ],
   "source": [
    "# Q2. Spearman's rank correlation is a measure of the monotonic relationship between two variables.\n",
    "# Suppose you have collected data on the amount of sleep individuals get each night and their overall job\n",
    "# satisfaction level on a scale of 1 to 10. Calculate the Spearman's rank correlation between these two\n",
    "# variables and interpret the result.\n",
    "# Ans\n",
    "import pandas as pd\n",
    "from scipy.stats import spearmanr\n",
    "data = {'Amount of Sleep': [8, 6, 7, 5, 7, 9, 6, 8, 5, 7],\n",
    "        'Job Satisfaction': [7, 5, 6, 4, 6, 8, 5, 7, 4, 6]}\n",
    "df = pd.DataFrame(data)\n",
    "\n",
    "corr, p_value = spearmanr(df['Amount of Sleep'], df['Job Satisfaction'])\n",
    "\n",
    "print(f\"Spearman's rank correlation coefficient: {corr:.3f}\")\n",
    "print(f\"p-value: {p_value:.3f}\")\n"
   ]
  },
  {
   "cell_type": "code",
   "execution_count": 2,
   "id": "6aa2d896",
   "metadata": {},
   "outputs": [
    {
     "name": "stdout",
     "output_type": "stream",
     "text": [
      "Pearson correlation coefficient: -0.085\n",
      "p-value (Pearson): 0.556\n",
      "Spearman's rank correlation coefficient: -0.083\n",
      "p-value (Spearman): 0.566\n"
     ]
    }
   ],
   "source": [
    "# Q3. Suppose you are conducting a study to examine the relationship between the number of hours of\n",
    "# exercise per week and body mass index (BMI) in a sample of adults. You collected data on both variables\n",
    "# for 50 participants. Calculate the Pearson correlation coefficient and the Spearman's rank correlation\n",
    "# between these two variables and compare the results.\n",
    "# Ans:\n",
    "import numpy as np\n",
    "import pandas as pd\n",
    "from scipy.stats import pearsonr, spearmanr\n",
    "\n",
    "# Set seed for reproducibility\n",
    "np.random.seed(123)\n",
    "\n",
    "# Generate random data for exercise hours and BMI\n",
    "exercise_hours = np.random.normal(5, 2, 50)\n",
    "bmi = np.random.normal(25, 3, 50)\n",
    "\n",
    "# Create a DataFrame with the data\n",
    "data = {'Exercise Hours': exercise_hours, 'BMI': bmi}\n",
    "df = pd.DataFrame(data)\n",
    "\n",
    "# Calculate the Pearson correlation coefficient and p-value\n",
    "pearson_corr, p_value_pearson = pearsonr(df['Exercise Hours'], df['BMI'])\n",
    "\n",
    "# Calculate the Spearman's rank correlation and p-value\n",
    "spearman_corr, p_value_spearman = spearmanr(df['Exercise Hours'], df['BMI'])\n",
    "\n",
    "print(f\"Pearson correlation coefficient: {pearson_corr:.3f}\")\n",
    "print(f\"p-value (Pearson): {p_value_pearson:.3f}\")\n",
    "print(f\"Spearman's rank correlation coefficient: {spearman_corr:.3f}\")\n",
    "print(f\"p-value (Spearman): {p_value_spearman:.3f}\")\n"
   ]
  },
  {
   "cell_type": "code",
   "execution_count": 5,
   "id": "2044a4cc",
   "metadata": {},
   "outputs": [
    {
     "name": "stdout",
     "output_type": "stream",
     "text": [
      "Pearson correlation coefficient: -0.085\n",
      "p-value: 0.556\n"
     ]
    }
   ],
   "source": [
    "# Q4. A researcher is interested in examining the relationship between the number of hours individuals\n",
    "# spend watching television per day and their level of physical activity. The researcher collected data on\n",
    "# both variables from a sample of 50 participants. Calculate the Pearson correlation coefficient between\n",
    "# these two variables.\n",
    "\n",
    "# Ans:\n",
    "import numpy as np\n",
    "import pandas as pd\n",
    "from scipy.stats import pearsonr\n",
    "\n",
    "# Set seed for reproducibility\n",
    "np.random.seed(123)\n",
    "\n",
    "# Generate random data for TV hours and physical activity\n",
    "tv_hours = np.random.normal(3, 1, 50)\n",
    "physical_activity = np.random.normal(5, 2, 50)\n",
    "\n",
    "# Create a DataFrame with the data\n",
    "data = {'TV Hours': tv_hours, 'Physical Activity': physical_activity}\n",
    "df = pd.DataFrame(data)\n",
    "\n",
    "# Calculate the Pearson correlation coefficient and p-value\n",
    "corr, p_value = pearsonr(df['TV Hours'], df['Physical Activity'])\n",
    "\n",
    "print(f\"Pearson correlation coefficient: {corr:.3f}\")\n",
    "print(f\"p-value: {p_value:.3f}\")\n"
   ]
  },
  {
   "cell_type": "code",
   "execution_count": 43,
   "id": "e05e4e15",
   "metadata": {},
   "outputs": [
    {
     "name": "stdout",
     "output_type": "stream",
     "text": [
      "Pearson correlation coefficient: 0.759\n",
      "P-value: 0.080\n"
     ]
    }
   ],
   "source": [
    "# Q5. A survey was conducted to examine the relationship between age and preference for a particular\n",
    "# brand of soft drink. The survey results are shown below:\n",
    "import pandas as pd\n",
    "data={\"Age\":(25,42,37,19,31,28),\"Soft Drink Preference\":(\"Coke\",\"Pepsi\",\"Mountain dew\",\"Coke\",\"Pepsi\",\"Coke\")}\n",
    "pd.DataFrame(data)\n",
    "import numpy as np\n",
    "from scipy.stats import pearsonr\n",
    "\n",
    "# Encode soft drink preferences as numerical values\n",
    "soft_drinks = {'Coke': 1, 'Pepsi': 2, 'Mountain Dew': 3}\n",
    "\n",
    "age = np.array([25, 42, 37, 19, 31, 28])\n",
    "soft_drink_pref = np.array([soft_drinks['Coke'], soft_drinks['Pepsi'], soft_drinks['Mountain Dew'], \n",
    "                            soft_drinks['Coke'], soft_drinks['Pepsi'], soft_drinks['Coke']])\n",
    "\n",
    "# Calculate Pearson correlation coefficient and p-value\n",
    "corr, p_value = pearsonr(age, soft_drink_pref)\n",
    "\n",
    "print(f\"Pearson correlation coefficient: {corr:.3f}\")\n",
    "print(f\"P-value: {p_value:.3f}\")\n",
    "\n"
   ]
  },
  {
   "cell_type": "code",
   "execution_count": 4,
   "id": "987fc115",
   "metadata": {},
   "outputs": [
    {
     "name": "stdout",
     "output_type": "stream",
     "text": [
      "Pearson correlation coefficient: -0.132\n",
      "p-value: 0.486\n"
     ]
    }
   ],
   "source": [
    "# Q6. A company is interested in examining the relationship between the number of sales calls made per day\n",
    "# and the number of sales made per week. The company collected data on both variables from a sample of\n",
    "# 30 sales representatives. Calculate the Pearson correlation coefficient between these two variables.\n",
    "# Ans\n",
    "import numpy as np\n",
    "import pandas as pd\n",
    "from scipy.stats import pearsonr\n",
    "\n",
    "# Set seed for reproducibility\n",
    "np.random.seed(123)\n",
    "\n",
    "# Generate random data for sales calls and sales made\n",
    "sales_calls = np.random.normal(50, 10, 30)\n",
    "sales_made = np.random.normal(20, 5, 30)\n",
    "\n",
    "# Create a DataFrame with the data\n",
    "data = {'Sales Calls': sales_calls, 'Sales Made': sales_made}\n",
    "df = pd.DataFrame(data)\n",
    "\n",
    "# Calculate the Pearson correlation coefficient and p-value\n",
    "corr, p_value = pearsonr(df['Sales Calls'], df['Sales Made'])\n",
    "\n",
    "print(f\"Pearson correlation coefficient: {corr:.3f}\")\n",
    "print(f\"p-value: {p_value:.3f}\")\n"
   ]
  },
  {
   "cell_type": "code",
   "execution_count": null,
   "id": "bbba9ce6",
   "metadata": {},
   "outputs": [],
   "source": []
  },
  {
   "cell_type": "code",
   "execution_count": null,
   "id": "476519ef",
   "metadata": {},
   "outputs": [],
   "source": []
  },
  {
   "cell_type": "code",
   "execution_count": null,
   "id": "a7972b3d",
   "metadata": {},
   "outputs": [],
   "source": []
  },
  {
   "cell_type": "code",
   "execution_count": null,
   "id": "34e499ac",
   "metadata": {},
   "outputs": [],
   "source": []
  },
  {
   "cell_type": "code",
   "execution_count": null,
   "id": "284ce49d",
   "metadata": {},
   "outputs": [],
   "source": []
  },
  {
   "cell_type": "code",
   "execution_count": null,
   "id": "b6eb26b6",
   "metadata": {},
   "outputs": [],
   "source": []
  }
 ],
 "metadata": {
  "kernelspec": {
   "display_name": "Python 3 (ipykernel)",
   "language": "python",
   "name": "python3"
  },
  "language_info": {
   "codemirror_mode": {
    "name": "ipython",
    "version": 3
   },
   "file_extension": ".py",
   "mimetype": "text/x-python",
   "name": "python",
   "nbconvert_exporter": "python",
   "pygments_lexer": "ipython3",
   "version": "3.10.5"
  }
 },
 "nbformat": 4,
 "nbformat_minor": 5
}
